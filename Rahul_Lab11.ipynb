{
  "cells": [
    {
      "cell_type": "markdown",
      "metadata": {
        "id": "7HCJTNzcSv54"
      },
      "source": [
        "# Advanced List Comprehension and List Functions\n",
        "# Data Formatting, Identifying and Cleaning Outliers"
      ]
    },
    {
      "cell_type": "markdown",
      "metadata": {
        "id": "-dIpWzvWSv55"
      },
      "source": [
        "Complete the tasks listed below. You can submit the completed lab until 11:59 PM in the night."
      ]
    },
    {
      "cell_type": "markdown",
      "metadata": {
        "id": "AhrypwQFSv56"
      },
      "source": [
        "### Task 1 (1 mark)\n",
        "\n",
        "A file named __Lincoln.txt__ is included in the folder containing this Notebook. Open the file and write some traditional Python code (one that uses nested _for_ loops) to extract all the words from this file into a list named __word_list__. The list should only include the words from the file in lower case (punctuation, hyphens, new line characters etc should not be included). A portion of the output is shown below for your convenience:"
      ]
    },
    {
      "cell_type": "markdown",
      "metadata": {
        "id": "zzEv3s0mSv56"
      },
      "source": [
        "<img align=left src=\"images/task1.png\" height=\"125\" width=\"125\">"
      ]
    },
    {
      "cell_type": "markdown",
      "metadata": {
        "id": "-zm8VhnRSv56"
      },
      "source": [
        "<u>Hint:</u> You can use a very short snippet of code exploiting Python's regular expression __re__ module, which would make your task a whole lot easier."
      ]
    },
    {
      "cell_type": "code",
      "execution_count": 93,
      "metadata": {
        "id": "XldH31awSv57"
      },
      "outputs": [],
      "source": [
        "### Write your code below this comment.\n",
        "import pandas as pd\n",
        "import numpy as np\n"
      ]
    },
    {
      "cell_type": "code",
      "source": [
        "import re\n",
        "\n",
        "word_list = []\n",
        "\n",
        "with open('Lincoln.txt', 'r') as file:\n",
        "    for x in file:\n",
        "      words = re.findall(r'\\b\\w+\\b',x.lower())\n",
        "      word_list.extend(words)\n",
        "\n",
        "print(f'\\n {word_list[:10]}')"
      ],
      "metadata": {
        "colab": {
          "base_uri": "https://localhost:8080/"
        },
        "id": "8nExufs0VDFJ",
        "outputId": "f5e1e6aa-7320-49b5-c691-a9c50fd0108f"
      },
      "execution_count": 94,
      "outputs": [
        {
          "output_type": "stream",
          "name": "stdout",
          "text": [
            "\n",
            " ['four', 'score', 'and', 'seven', 'years', 'ago', 'our', 'fathers', 'brought', 'forth']\n"
          ]
        }
      ]
    },
    {
      "cell_type": "markdown",
      "metadata": {
        "id": "RGgO5fOuSv57"
      },
      "source": [
        "### Task 2 (1 mark)\n",
        "\n",
        "Do the same you did in Task 1 above, this time around using a list comprehension instead."
      ]
    },
    {
      "cell_type": "code",
      "execution_count": 95,
      "metadata": {
        "colab": {
          "base_uri": "https://localhost:8080/"
        },
        "id": "Wa7L_Wt_Sv57",
        "outputId": "c0c4d732-5423-4feb-8e96-89c4de829a52"
      },
      "outputs": [
        {
          "output_type": "stream",
          "name": "stdout",
          "text": [
            "\n",
            " [['four', 'score', 'and', 'seven', 'years', 'ago', 'our', 'fathers', 'brought', 'forth', 'on', 'this', 'continent', 'a', 'new', 'nation', 'conceived', 'in', 'liberty', 'and', 'dedicated', 'to', 'the', 'proposition', 'that', 'all', 'men', 'are', 'created', 'equal'], [], ['now', 'we', 'are', 'engaged', 'in', 'a', 'great', 'civil', 'war', 'testing', 'whether', 'that', 'nation', 'or', 'any', 'nation', 'so', 'conceived', 'and', 'dedicated', 'can', 'long', 'endure', 'we', 'are', 'met', 'on', 'a', 'great', 'battlefield', 'of', 'that', 'war', 'we', 'have', 'come', 'to', 'dedicate', 'a', 'portion', 'of', 'that', 'field', 'as', 'a', 'final', 'resting', 'place', 'for', 'those', 'who', 'here', 'gave', 'their', 'lives', 'that', 'that', 'nation', 'might', 'live', 'it', 'is', 'altogether', 'fitting', 'and', 'proper', 'that', 'we', 'should', 'do', 'this'], [], ['but', 'in', 'a', 'larger', 'sense', 'we', 'can', 'not', 'dedicate', 'we', 'can', 'not', 'consecrate', 'we', 'can', 'not', 'hallow', 'this', 'ground', 'the', 'brave', 'men', 'living', 'and', 'dead', 'who', 'struggled', 'here', 'have', 'consecrated', 'it', 'far', 'above', 'our', 'poor', 'power', 'to', 'add', 'or', 'detract', 'the', 'world', 'will', 'little', 'note', 'nor', 'long', 'remember', 'what', 'we', 'say', 'here', 'but', 'it', 'can', 'never', 'forget', 'what', 'they', 'did', 'here', 'it', 'is', 'for', 'us', 'the', 'living', 'rather', 'to', 'be', 'dedicated', 'here', 'to', 'the', 'unfinished', 'work', 'which', 'they', 'who', 'fought', 'here', 'have', 'thus', 'far', 'so', 'nobly', 'advanced', 'it', 'is', 'rather', 'for', 'us', 'to', 'be', 'here', 'dedicated', 'to', 'the', 'great', 'task', 'remaining', 'before', 'us', 'that', 'from', 'these', 'honored', 'dead', 'we', 'take', 'increased', 'devotion', 'to', 'that', 'cause', 'for', 'which', 'they', 'gave', 'the', 'last', 'full', 'measure', 'of', 'devotion', 'that', 'we', 'here', 'highly', 'resolve', 'that', 'these', 'dead', 'shall', 'not', 'have', 'died', 'in', 'vain', 'that', 'this', 'nation', 'under', 'god', 'shall', 'have', 'a', 'new', 'birth', 'of', 'freedom', 'and', 'that', 'government', 'of', 'the', 'people', 'by', 'the', 'people', 'for', 'the', 'people', 'shall', 'not', 'perish', 'from', 'the', 'earth']]\n"
          ]
        }
      ],
      "source": [
        "### Write your code below this comment.\n",
        "import re\n",
        "\n",
        "word_list = []\n",
        "\n",
        "with open('Lincoln.txt', 'r') as file:\n",
        "\n",
        "    words = [re.findall(r'\\b\\w+\\b',i.lower()) for i in file]\n",
        "    word_list.extend(words)\n",
        "\n",
        "print(f'\\n {word_list[:10]}')"
      ]
    },
    {
      "cell_type": "markdown",
      "metadata": {
        "id": "tcpvfEY1Sv57"
      },
      "source": [
        "### Task 3 (1 mark)\n",
        "\n",
        "Write code that creates a dictionary named __counts__ which stores the counts of all the words included in the list __word_list__. A portion of the output is shown below for your convenience:"
      ]
    },
    {
      "cell_type": "markdown",
      "metadata": {
        "id": "_6W_sGUNSv57"
      },
      "source": [
        "<img align=left src=\"images/task3.png\" height=\"150\" width=\"150\">"
      ]
    },
    {
      "cell_type": "code",
      "execution_count": 96,
      "metadata": {
        "colab": {
          "base_uri": "https://localhost:8080/"
        },
        "id": "hQTJT9PxSv58",
        "outputId": "ebb13db4-662c-4a87-fa8a-5fa6742542af"
      },
      "outputs": [
        {
          "output_type": "stream",
          "name": "stdout",
          "text": [
            "\t {'it': 5, 'last': 1, 'portion': 1, 'from': 2, 'place': 1, 'brave': 1, 'add': 1, 'perish': 1, 'the': 11, 'new': 2, 'remember': 1, 'dedicate': 2, 'nation': 5, 'come': 1, 'measure': 1, 'not': 5, 'final': 1, 'who': 3, 'can': 5, 'resolve': 1, 'ground': 1, 'people': 3, 'here': 8, 'brought': 1, 'civil': 1, 'government': 1, 'freedom': 1, 'lives': 1, 'note': 1, 'to': 8, 'world': 1, 'larger': 1, 'forth': 1, 'task': 1, 'men': 2, 'fathers': 1, 'engaged': 1, 'consecrated': 1, 'work': 1, 'score': 1, 'seven': 1, 'what': 2, 'be': 2, 'gave': 2, 'as': 1, 'are': 3, 'live': 1, 'hallow': 1, 'or': 2, 'by': 1, 'endure': 1, 'unfinished': 1, 'never': 1, 'testing': 1, 'war': 2, 'their': 1, 'continent': 1, 'created': 1, 'ago': 1, 'and': 6, 'remaining': 1, 'forget': 1, 'consecrate': 1, 'all': 1, 'us': 3, 'whether': 1, 'so': 2, 'have': 5, 'resting': 1, 'those': 1, 'is': 3, 'will': 1, 'which': 2, 'our': 2, 'thus': 1, 'this': 4, 'say': 1, 'long': 2, 'battlefield': 1, 'field': 1, 'these': 2, 'increased': 1, 'power': 1, 'great': 3, 'met': 1, 'take': 1, 'under': 1, 'little': 1, 'do': 1, 'might': 1, 'living': 2, 'that': 13, 'equal': 1, 'devotion': 2, 'any': 1, 'nor': 1, 'sense': 1, 'struggled': 1, 'shall': 3, 'died': 1, 'poor': 1, 'dedicated': 4, 'of': 5, 'dead': 3, 'on': 2, 'vain': 1, 'for': 5, 'before': 1, 'did': 1, 'liberty': 1, 'we': 10, 'detract': 1, 'honored': 1, 'they': 3, 'full': 1, 'but': 2, 'advanced': 1, 'proposition': 1, 'birth': 1, 'years': 1, 'highly': 1, 'rather': 2, 'now': 1, 'god': 1, 'cause': 1, 'far': 2, 'fought': 1, 'conceived': 2, 'fitting': 1, 'should': 1, 'above': 1, 'proper': 1, 'in': 4, 'altogether': 1, 'earth': 1, 'four': 1, 'a': 7, 'nobly': 1}\n"
          ]
        }
      ],
      "source": [
        "### Write your code below this comment.\n",
        "with open('Lincoln.txt', 'r') as file:\n",
        "    text = file.read()\n",
        "    word_list = re.findall(r'\\b\\w+\\b', text.lower())\n",
        "\n",
        "counts = {word: word_list.count(word) for word in set(word_list)}\n",
        "\n",
        "print(f'\\t {counts}')\n"
      ]
    },
    {
      "cell_type": "markdown",
      "metadata": {
        "id": "3WH0IqebSv58"
      },
      "source": [
        "### Task 4 (1 mark)\n",
        "\n",
        "Three lists are provided below for you to work with."
      ]
    },
    {
      "cell_type": "markdown",
      "metadata": {
        "id": "vqejzc39Sv58"
      },
      "source": [
        "    numbers = [1, 2, 3]\n",
        "    letters = ['a', 'b', 'c']\n",
        "    longest = list(range(5))"
      ]
    },
    {
      "cell_type": "markdown",
      "metadata": {
        "id": "f2C4M83YSv58"
      },
      "source": [
        "Connect the lists in such a way that the output looks as follows:"
      ]
    },
    {
      "cell_type": "markdown",
      "metadata": {
        "id": "fKdTEM9ISv58"
      },
      "source": [
        "<img align=left src=\"images/task4.png\" height=\"550\" width=\"550\">"
      ]
    },
    {
      "cell_type": "code",
      "execution_count": 97,
      "metadata": {
        "id": "YSuokOLHSv58"
      },
      "outputs": [],
      "source": [
        "### Write your code below this comment.\n",
        "list_1=[1,2,3]\n",
        "list_2=['a','b','c']\n",
        "list_3=list(range(5))"
      ]
    },
    {
      "cell_type": "code",
      "source": [
        "from itertools import zip_longest\n",
        "\n",
        "\n",
        "result = list(zip_longest(list_1, list_2, list_3, fillvalue='?'))\n",
        "print(f'\\t {result}')"
      ],
      "metadata": {
        "colab": {
          "base_uri": "https://localhost:8080/"
        },
        "id": "fLbBDUhpYJYW",
        "outputId": "3f494c7f-93c6-4a80-fcaf-0477813ce1fe"
      },
      "execution_count": 98,
      "outputs": [
        {
          "output_type": "stream",
          "name": "stdout",
          "text": [
            "\t [(1, 'a', 0), (2, 'b', 1), (3, 'c', 2), ('?', '?', 3), ('?', '?', 4)]\n"
          ]
        }
      ]
    },
    {
      "cell_type": "markdown",
      "metadata": {
        "id": "44gHyQRCSv58"
      },
      "source": [
        "### Task 5 (1 mark)\n",
        "\n",
        "Read the file __visit_data.csv__ into a Dataframe __df__. Figure out which of the columns in the Dataframe have duplicated values. Report your result as follows:"
      ]
    },
    {
      "cell_type": "markdown",
      "metadata": {
        "id": "fqVeAOIkSv58"
      },
      "source": [
        "<img align=left src=\"images/task5.png\" height=\"250\" width=\"250\">"
      ]
    },
    {
      "cell_type": "markdown",
      "metadata": {
        "id": "ZmAUzNpRSv58"
      },
      "source": [
        "Use only two lines of code to accomplish the above. Do this first using just the __print__ function, then the __%__ operator with the __print__ function, and finally the __format__ method with the __print__ function.\n",
        "\n",
        "<u>Hints</u>: You can use __map__ and __str__ in conjunction with the __join__ method. To make the text bold font, you can use `'\\033[1m'` and `'\\033[0m'`."
      ]
    },
    {
      "cell_type": "code",
      "execution_count": 99,
      "metadata": {
        "colab": {
          "base_uri": "https://localhost:8080/",
          "height": 206
        },
        "id": "qH6VFzGSSv58",
        "outputId": "ddda1085-37fe-413d-c993-14eb2e8dfe79"
      },
      "outputs": [
        {
          "output_type": "execute_result",
          "data": {
            "text/plain": [
              "   id first_name last_name                       email gender  \\\n",
              "0   1      Sonny      Dahl            sdahl0@mysql.com   Male   \n",
              "1   2        NaN       NaN           dhoovart1@hud.gov    NaN   \n",
              "2   3        Gar     Armal      garmal2@technorati.com    NaN   \n",
              "3   4    Chiarra     Nulty       cnulty3@newyorker.com    NaN   \n",
              "4   5        NaN       NaN  sleaver4@elegantthemes.com    NaN   \n",
              "\n",
              "        ip_address  nb_visits  \n",
              "0    135.36.96.183     1225.0  \n",
              "1  237.165.194.143      919.0  \n",
              "2   166.43.137.224      271.0  \n",
              "3   139.98.137.108     1002.0  \n",
              "4    46.117.117.27     2434.0  "
            ],
            "text/html": [
              "\n",
              "  <div id=\"df-02e35375-cb99-4b30-a4d8-a893636924bb\" class=\"colab-df-container\">\n",
              "    <div>\n",
              "<style scoped>\n",
              "    .dataframe tbody tr th:only-of-type {\n",
              "        vertical-align: middle;\n",
              "    }\n",
              "\n",
              "    .dataframe tbody tr th {\n",
              "        vertical-align: top;\n",
              "    }\n",
              "\n",
              "    .dataframe thead th {\n",
              "        text-align: right;\n",
              "    }\n",
              "</style>\n",
              "<table border=\"1\" class=\"dataframe\">\n",
              "  <thead>\n",
              "    <tr style=\"text-align: right;\">\n",
              "      <th></th>\n",
              "      <th>id</th>\n",
              "      <th>first_name</th>\n",
              "      <th>last_name</th>\n",
              "      <th>email</th>\n",
              "      <th>gender</th>\n",
              "      <th>ip_address</th>\n",
              "      <th>nb_visits</th>\n",
              "    </tr>\n",
              "  </thead>\n",
              "  <tbody>\n",
              "    <tr>\n",
              "      <th>0</th>\n",
              "      <td>1</td>\n",
              "      <td>Sonny</td>\n",
              "      <td>Dahl</td>\n",
              "      <td>sdahl0@mysql.com</td>\n",
              "      <td>Male</td>\n",
              "      <td>135.36.96.183</td>\n",
              "      <td>1225.0</td>\n",
              "    </tr>\n",
              "    <tr>\n",
              "      <th>1</th>\n",
              "      <td>2</td>\n",
              "      <td>NaN</td>\n",
              "      <td>NaN</td>\n",
              "      <td>dhoovart1@hud.gov</td>\n",
              "      <td>NaN</td>\n",
              "      <td>237.165.194.143</td>\n",
              "      <td>919.0</td>\n",
              "    </tr>\n",
              "    <tr>\n",
              "      <th>2</th>\n",
              "      <td>3</td>\n",
              "      <td>Gar</td>\n",
              "      <td>Armal</td>\n",
              "      <td>garmal2@technorati.com</td>\n",
              "      <td>NaN</td>\n",
              "      <td>166.43.137.224</td>\n",
              "      <td>271.0</td>\n",
              "    </tr>\n",
              "    <tr>\n",
              "      <th>3</th>\n",
              "      <td>4</td>\n",
              "      <td>Chiarra</td>\n",
              "      <td>Nulty</td>\n",
              "      <td>cnulty3@newyorker.com</td>\n",
              "      <td>NaN</td>\n",
              "      <td>139.98.137.108</td>\n",
              "      <td>1002.0</td>\n",
              "    </tr>\n",
              "    <tr>\n",
              "      <th>4</th>\n",
              "      <td>5</td>\n",
              "      <td>NaN</td>\n",
              "      <td>NaN</td>\n",
              "      <td>sleaver4@elegantthemes.com</td>\n",
              "      <td>NaN</td>\n",
              "      <td>46.117.117.27</td>\n",
              "      <td>2434.0</td>\n",
              "    </tr>\n",
              "  </tbody>\n",
              "</table>\n",
              "</div>\n",
              "    <div class=\"colab-df-buttons\">\n",
              "\n",
              "  <div class=\"colab-df-container\">\n",
              "    <button class=\"colab-df-convert\" onclick=\"convertToInteractive('df-02e35375-cb99-4b30-a4d8-a893636924bb')\"\n",
              "            title=\"Convert this dataframe to an interactive table.\"\n",
              "            style=\"display:none;\">\n",
              "\n",
              "  <svg xmlns=\"http://www.w3.org/2000/svg\" height=\"24px\" viewBox=\"0 -960 960 960\">\n",
              "    <path d=\"M120-120v-720h720v720H120Zm60-500h600v-160H180v160Zm220 220h160v-160H400v160Zm0 220h160v-160H400v160ZM180-400h160v-160H180v160Zm440 0h160v-160H620v160ZM180-180h160v-160H180v160Zm440 0h160v-160H620v160Z\"/>\n",
              "  </svg>\n",
              "    </button>\n",
              "\n",
              "  <style>\n",
              "    .colab-df-container {\n",
              "      display:flex;\n",
              "      gap: 12px;\n",
              "    }\n",
              "\n",
              "    .colab-df-convert {\n",
              "      background-color: #E8F0FE;\n",
              "      border: none;\n",
              "      border-radius: 50%;\n",
              "      cursor: pointer;\n",
              "      display: none;\n",
              "      fill: #1967D2;\n",
              "      height: 32px;\n",
              "      padding: 0 0 0 0;\n",
              "      width: 32px;\n",
              "    }\n",
              "\n",
              "    .colab-df-convert:hover {\n",
              "      background-color: #E2EBFA;\n",
              "      box-shadow: 0px 1px 2px rgba(60, 64, 67, 0.3), 0px 1px 3px 1px rgba(60, 64, 67, 0.15);\n",
              "      fill: #174EA6;\n",
              "    }\n",
              "\n",
              "    .colab-df-buttons div {\n",
              "      margin-bottom: 4px;\n",
              "    }\n",
              "\n",
              "    [theme=dark] .colab-df-convert {\n",
              "      background-color: #3B4455;\n",
              "      fill: #D2E3FC;\n",
              "    }\n",
              "\n",
              "    [theme=dark] .colab-df-convert:hover {\n",
              "      background-color: #434B5C;\n",
              "      box-shadow: 0px 1px 3px 1px rgba(0, 0, 0, 0.15);\n",
              "      filter: drop-shadow(0px 1px 2px rgba(0, 0, 0, 0.3));\n",
              "      fill: #FFFFFF;\n",
              "    }\n",
              "  </style>\n",
              "\n",
              "    <script>\n",
              "      const buttonEl =\n",
              "        document.querySelector('#df-02e35375-cb99-4b30-a4d8-a893636924bb button.colab-df-convert');\n",
              "      buttonEl.style.display =\n",
              "        google.colab.kernel.accessAllowed ? 'block' : 'none';\n",
              "\n",
              "      async function convertToInteractive(key) {\n",
              "        const element = document.querySelector('#df-02e35375-cb99-4b30-a4d8-a893636924bb');\n",
              "        const dataTable =\n",
              "          await google.colab.kernel.invokeFunction('convertToInteractive',\n",
              "                                                    [key], {});\n",
              "        if (!dataTable) return;\n",
              "\n",
              "        const docLinkHtml = 'Like what you see? Visit the ' +\n",
              "          '<a target=\"_blank\" href=https://colab.research.google.com/notebooks/data_table.ipynb>data table notebook</a>'\n",
              "          + ' to learn more about interactive tables.';\n",
              "        element.innerHTML = '';\n",
              "        dataTable['output_type'] = 'display_data';\n",
              "        await google.colab.output.renderOutput(dataTable, element);\n",
              "        const docLink = document.createElement('div');\n",
              "        docLink.innerHTML = docLinkHtml;\n",
              "        element.appendChild(docLink);\n",
              "      }\n",
              "    </script>\n",
              "  </div>\n",
              "\n",
              "\n",
              "<div id=\"df-83516073-22fa-4413-9e73-967b65dab479\">\n",
              "  <button class=\"colab-df-quickchart\" onclick=\"quickchart('df-83516073-22fa-4413-9e73-967b65dab479')\"\n",
              "            title=\"Suggest charts\"\n",
              "            style=\"display:none;\">\n",
              "\n",
              "<svg xmlns=\"http://www.w3.org/2000/svg\" height=\"24px\"viewBox=\"0 0 24 24\"\n",
              "     width=\"24px\">\n",
              "    <g>\n",
              "        <path d=\"M19 3H5c-1.1 0-2 .9-2 2v14c0 1.1.9 2 2 2h14c1.1 0 2-.9 2-2V5c0-1.1-.9-2-2-2zM9 17H7v-7h2v7zm4 0h-2V7h2v10zm4 0h-2v-4h2v4z\"/>\n",
              "    </g>\n",
              "</svg>\n",
              "  </button>\n",
              "\n",
              "<style>\n",
              "  .colab-df-quickchart {\n",
              "      --bg-color: #E8F0FE;\n",
              "      --fill-color: #1967D2;\n",
              "      --hover-bg-color: #E2EBFA;\n",
              "      --hover-fill-color: #174EA6;\n",
              "      --disabled-fill-color: #AAA;\n",
              "      --disabled-bg-color: #DDD;\n",
              "  }\n",
              "\n",
              "  [theme=dark] .colab-df-quickchart {\n",
              "      --bg-color: #3B4455;\n",
              "      --fill-color: #D2E3FC;\n",
              "      --hover-bg-color: #434B5C;\n",
              "      --hover-fill-color: #FFFFFF;\n",
              "      --disabled-bg-color: #3B4455;\n",
              "      --disabled-fill-color: #666;\n",
              "  }\n",
              "\n",
              "  .colab-df-quickchart {\n",
              "    background-color: var(--bg-color);\n",
              "    border: none;\n",
              "    border-radius: 50%;\n",
              "    cursor: pointer;\n",
              "    display: none;\n",
              "    fill: var(--fill-color);\n",
              "    height: 32px;\n",
              "    padding: 0;\n",
              "    width: 32px;\n",
              "  }\n",
              "\n",
              "  .colab-df-quickchart:hover {\n",
              "    background-color: var(--hover-bg-color);\n",
              "    box-shadow: 0 1px 2px rgba(60, 64, 67, 0.3), 0 1px 3px 1px rgba(60, 64, 67, 0.15);\n",
              "    fill: var(--button-hover-fill-color);\n",
              "  }\n",
              "\n",
              "  .colab-df-quickchart-complete:disabled,\n",
              "  .colab-df-quickchart-complete:disabled:hover {\n",
              "    background-color: var(--disabled-bg-color);\n",
              "    fill: var(--disabled-fill-color);\n",
              "    box-shadow: none;\n",
              "  }\n",
              "\n",
              "  .colab-df-spinner {\n",
              "    border: 2px solid var(--fill-color);\n",
              "    border-color: transparent;\n",
              "    border-bottom-color: var(--fill-color);\n",
              "    animation:\n",
              "      spin 1s steps(1) infinite;\n",
              "  }\n",
              "\n",
              "  @keyframes spin {\n",
              "    0% {\n",
              "      border-color: transparent;\n",
              "      border-bottom-color: var(--fill-color);\n",
              "      border-left-color: var(--fill-color);\n",
              "    }\n",
              "    20% {\n",
              "      border-color: transparent;\n",
              "      border-left-color: var(--fill-color);\n",
              "      border-top-color: var(--fill-color);\n",
              "    }\n",
              "    30% {\n",
              "      border-color: transparent;\n",
              "      border-left-color: var(--fill-color);\n",
              "      border-top-color: var(--fill-color);\n",
              "      border-right-color: var(--fill-color);\n",
              "    }\n",
              "    40% {\n",
              "      border-color: transparent;\n",
              "      border-right-color: var(--fill-color);\n",
              "      border-top-color: var(--fill-color);\n",
              "    }\n",
              "    60% {\n",
              "      border-color: transparent;\n",
              "      border-right-color: var(--fill-color);\n",
              "    }\n",
              "    80% {\n",
              "      border-color: transparent;\n",
              "      border-right-color: var(--fill-color);\n",
              "      border-bottom-color: var(--fill-color);\n",
              "    }\n",
              "    90% {\n",
              "      border-color: transparent;\n",
              "      border-bottom-color: var(--fill-color);\n",
              "    }\n",
              "  }\n",
              "</style>\n",
              "\n",
              "  <script>\n",
              "    async function quickchart(key) {\n",
              "      const quickchartButtonEl =\n",
              "        document.querySelector('#' + key + ' button');\n",
              "      quickchartButtonEl.disabled = true;  // To prevent multiple clicks.\n",
              "      quickchartButtonEl.classList.add('colab-df-spinner');\n",
              "      try {\n",
              "        const charts = await google.colab.kernel.invokeFunction(\n",
              "            'suggestCharts', [key], {});\n",
              "      } catch (error) {\n",
              "        console.error('Error during call to suggestCharts:', error);\n",
              "      }\n",
              "      quickchartButtonEl.classList.remove('colab-df-spinner');\n",
              "      quickchartButtonEl.classList.add('colab-df-quickchart-complete');\n",
              "    }\n",
              "    (() => {\n",
              "      let quickchartButtonEl =\n",
              "        document.querySelector('#df-83516073-22fa-4413-9e73-967b65dab479 button');\n",
              "      quickchartButtonEl.style.display =\n",
              "        google.colab.kernel.accessAllowed ? 'block' : 'none';\n",
              "    })();\n",
              "  </script>\n",
              "</div>\n",
              "    </div>\n",
              "  </div>\n"
            ]
          },
          "metadata": {},
          "execution_count": 99
        }
      ],
      "source": [
        "### Write your code below this comment.\n",
        "df = pd.read_csv('/content/visit_data.csv')\n",
        "df.head()"
      ]
    },
    {
      "cell_type": "code",
      "source": [
        "has_duplicates = df.apply(lambda x: x.duplicated()).any()\n",
        "\n",
        "print('\\n'.join(\"\\033[1m%s \\033[0m is duplicated: %s\" % (col.replace('_', ' ').title(), has_duplicates.get(col, False)) for col in df.columns))\n"
      ],
      "metadata": {
        "colab": {
          "base_uri": "https://localhost:8080/"
        },
        "id": "UV-NCnP6dRZ3",
        "outputId": "9d5334fc-dd55-48a0-f621-73377593a687"
      },
      "execution_count": 100,
      "outputs": [
        {
          "output_type": "stream",
          "name": "stdout",
          "text": [
            "\u001b[1mId \u001b[0m is duplicated: False\n",
            "\u001b[1mFirst Name \u001b[0m is duplicated: True\n",
            "\u001b[1mLast Name \u001b[0m is duplicated: True\n",
            "\u001b[1mEmail \u001b[0m is duplicated: False\n",
            "\u001b[1mGender \u001b[0m is duplicated: True\n",
            "\u001b[1mIp Address \u001b[0m is duplicated: False\n",
            "\u001b[1mNb Visits \u001b[0m is duplicated: True\n"
          ]
        }
      ]
    },
    {
      "cell_type": "markdown",
      "metadata": {
        "id": "N1_GMGSPSv58"
      },
      "source": [
        "You will find that there are duplicates in __First Name__, __Last Name__, __Gender__, and __Nb Visits__. Do you find these abnormal? Explain your reasoning in the cell below."
      ]
    },
    {
      "cell_type": "markdown",
      "metadata": {
        "id": "iLP3hk6-Sv58"
      },
      "source": [
        "__Reasoning:__ ..."
      ]
    },
    {
      "cell_type": "markdown",
      "source": [
        "As the above mentioned columns can have same values for one or more rows they have duplicates present."
      ],
      "metadata": {
        "id": "JQKHfHl1gFmI"
      }
    },
    {
      "cell_type": "markdown",
      "metadata": {
        "id": "OnEt30BQSv58"
      },
      "source": [
        "### Task 6 (1 mark)\n",
        "\n",
        "Save the number of rows in the Dataframe as __size_prev__. Then drop any missing values from the column __nb_visits__, save the resulting Dataframe, and again save the number of rows as __size_after__. Report the size of the resulting Dataframe as follows using __print__ in conjunction with __format__:"
      ]
    },
    {
      "cell_type": "markdown",
      "metadata": {
        "id": "-pnH1caySv59"
      },
      "source": [
        "<img align=left src=\"images/task6.png\" height=\"650\" width=\"650\">"
      ]
    },
    {
      "cell_type": "code",
      "execution_count": 101,
      "metadata": {
        "colab": {
          "base_uri": "https://localhost:8080/"
        },
        "id": "8g3TJd4tSv59",
        "outputId": "4aa59e7f-31c6-4be1-a2a6-553bf949c7bc"
      },
      "outputs": [
        {
          "output_type": "execute_result",
          "data": {
            "text/plain": [
              "1000"
            ]
          },
          "metadata": {},
          "execution_count": 101
        }
      ],
      "source": [
        "### Write your code below this comment.\n",
        "size_prev=len(df)\n",
        "size_prev"
      ]
    },
    {
      "cell_type": "code",
      "source": [
        "df = df.dropna(subset=['nb_visits'])\n",
        "size_after=len(df)\n",
        "\n",
        "print(\"The size of previous data was - {} rows and the size of new one is - {} rows\".format(size_prev, size_after))\n"
      ],
      "metadata": {
        "colab": {
          "base_uri": "https://localhost:8080/"
        },
        "id": "wL7XTLTjhQf6",
        "outputId": "c60e6b1d-9f90-419b-a11f-b5560a31a043"
      },
      "execution_count": 102,
      "outputs": [
        {
          "output_type": "stream",
          "name": "stdout",
          "text": [
            "The size of previous data was - 1000 rows and the size of new one is - 974 rows\n"
          ]
        }
      ]
    },
    {
      "cell_type": "markdown",
      "metadata": {
        "id": "tJN_P8MGSv59"
      },
      "source": [
        "### Task 7 (1 mark)\n",
        "\n",
        "Import the necessary plotting libraries and visualize any outliers for the column __nb_visits__."
      ]
    },
    {
      "cell_type": "code",
      "execution_count": 103,
      "metadata": {
        "colab": {
          "base_uri": "https://localhost:8080/",
          "height": 564
        },
        "id": "oZXwo13dSv59",
        "outputId": "d6e63fb3-5ca0-4fd8-b3b1-26584bd5cd7e"
      },
      "outputs": [
        {
          "output_type": "display_data",
          "data": {
            "text/plain": [
              "<Figure size 800x600 with 1 Axes>"
            ],
            "image/png": "[encoded data removed]"
          },
          "metadata": {}
        }
      ],
      "source": [
        "### Write your code below this comment.\n",
        "import matplotlib.pyplot as plt\n",
        "import seaborn as sns\n",
        "\n",
        "plt.figure(figsize=(8, 6))\n",
        "sns.boxplot(x=df['nb_visits'])\n",
        "plt.title('Box Plot for nb_visits')\n",
        "plt.show()"
      ]
    },
    {
      "cell_type": "markdown",
      "metadata": {
        "id": "QATG3J74Sv59"
      },
      "source": [
        "Did you see any outliers?"
      ]
    },
    {
      "cell_type": "markdown",
      "metadata": {
        "id": "zwPgUiXuSv59"
      },
      "source": [
        "__Answer:__ ... As the null values were removed, there was 0 outliers detected via box plot."
      ]
    },
    {
      "cell_type": "markdown",
      "metadata": {
        "id": "srbkhoFUSv59"
      },
      "source": [
        "### Task 8 (1 mark)\n",
        "\n",
        "Now filter the Dataframe based on the z-score for the column __nb_visits__."
      ]
    },
    {
      "cell_type": "code",
      "execution_count": 104,
      "metadata": {
        "colab": {
          "base_uri": "https://localhost:8080/"
        },
        "id": "INz0V9K4Sv59",
        "outputId": "df5a86a0-3c29-407f-bb06-8a1a37c2db25"
      },
      "outputs": [
        {
          "output_type": "stream",
          "name": "stdout",
          "text": [
            "       id first_name  last_name                         email  gender  \\\n",
            "0       1      Sonny       Dahl              sdahl0@mysql.com    Male   \n",
            "1       2        NaN        NaN             dhoovart1@hud.gov     NaN   \n",
            "2       3        Gar      Armal        garmal2@technorati.com     NaN   \n",
            "3       4    Chiarra      Nulty         cnulty3@newyorker.com     NaN   \n",
            "4       5        NaN        NaN    sleaver4@elegantthemes.com     NaN   \n",
            "..    ...        ...        ...                           ...     ...   \n",
            "994   995        NaN        NaN            hlowethrm@army.mil  Female   \n",
            "995   996     Averil   Pickover            apickoverrn@vk.com    Male   \n",
            "996   997     Walton  Hallewell         whallewellro@nasa.gov     NaN   \n",
            "998   999   Sapphira     Terron       sterronrq@wordpress.org     NaN   \n",
            "999  1000        NaN        NaN  jandreuzzirr@paginegialle.it    Male   \n",
            "\n",
            "          ip_address  nb_visits  \n",
            "0      135.36.96.183     1225.0  \n",
            "1    237.165.194.143      919.0  \n",
            "2     166.43.137.224      271.0  \n",
            "3     139.98.137.108     1002.0  \n",
            "4      46.117.117.27     2434.0  \n",
            "..               ...        ...  \n",
            "994   104.234.36.172      747.0  \n",
            "995     10.45.16.167     1305.0  \n",
            "996  231.224.238.232     2531.0  \n",
            "998    24.77.234.208      250.0  \n",
            "999   211.136.66.144     2389.0  \n",
            "\n",
            "[974 rows x 7 columns]\n"
          ]
        }
      ],
      "source": [
        "### Write your code below this comment.\n",
        "from scipy.stats import zscore\n",
        "\n",
        "z_scores = zscore(df['nb_visits'])\n",
        "threshold = 3\n",
        "filtered_df = df[(abs(z_scores) < threshold)]\n",
        "\n",
        "print(filtered_df)"
      ]
    },
    {
      "cell_type": "markdown",
      "metadata": {
        "id": "-YFTtjkRSv59"
      },
      "source": [
        "Were any outliers removed?"
      ]
    },
    {
      "cell_type": "markdown",
      "metadata": {
        "id": "Nycx0Ey4Sv59"
      },
      "source": [
        "__Answer:__ ... Yes, as we removed all null values from the column, there are no outliers present in the data now."
      ]
    },
    {
      "cell_type": "markdown",
      "metadata": {
        "id": "OHfHfrTgSv59"
      },
      "source": [
        "### Task 9 (1 mark)\n",
        "\n",
        "Let's introduce some outliers into the column __nb_visits__. Simply multiply the first five values for this column with 10 and once again visualize any outliers."
      ]
    },
    {
      "cell_type": "code",
      "execution_count": 105,
      "metadata": {
        "colab": {
          "base_uri": "https://localhost:8080/",
          "height": 564
        },
        "id": "7Yo_aeFeSv59",
        "outputId": "bc877fe9-6c34-4afd-896d-7586f7e63a8b"
      },
      "outputs": [
        {
          "output_type": "display_data",
          "data": {
            "text/plain": [
              "<Figure size 800x600 with 1 Axes>"
            ],
            "image/png": "[encoded data removed]"
          },
          "metadata": {}
        }
      ],
      "source": [
        "### Write your code below this comment.\n",
        "df.loc[:4, 'nb_visits'] *= 10\n",
        "\n",
        "plt.figure(figsize=(8, 6))\n",
        "sns.boxplot(x=df['nb_visits'])\n",
        "plt.title('Box Plot for nb_visits with Outliers')\n",
        "plt.show()"
      ]
    },
    {
      "cell_type": "markdown",
      "metadata": {
        "id": "0eiEOcLOSv59"
      },
      "source": [
        "Did you see any outliers?"
      ]
    },
    {
      "cell_type": "markdown",
      "metadata": {
        "id": "Nvkt_KkbSv59"
      },
      "source": [
        "__Answer:__ ... Yes, there are now 4 outliers present in the data for column nb_visits"
      ]
    },
    {
      "cell_type": "markdown",
      "metadata": {
        "id": "v_A_gRjfSv5-"
      },
      "source": [
        "### Task 10 (1 mark)\n",
        "\n",
        "Finally, filter the Dataframe once again based on the z-score for the updated __nb_visits__ column and save the resulting Dataframe."
      ]
    },
    {
      "cell_type": "code",
      "execution_count": 107,
      "metadata": {
        "colab": {
          "base_uri": "https://localhost:8080/",
          "height": 424
        },
        "id": "LJHRMfZ9Sv5-",
        "outputId": "356d7b06-0932-4ac7-aa08-270dfcbbc71d"
      },
      "outputs": [
        {
          "output_type": "execute_result",
          "data": {
            "text/plain": [
              "       id  first_name   last_name                          email  gender  \\\n",
              "2       3         Gar       Armal         garmal2@technorati.com     NaN   \n",
              "5       6     Raymund  Ingerfield     ringerfield5@microsoft.com     NaN   \n",
              "6       7  Wilhelmina      Dagnan           wdagnan6@nytimes.com  Female   \n",
              "7       8         NaN         NaN  mdewilde7@creativecommons.org  Female   \n",
              "8       9      Gunter    Lisamore          glisamore8@disqus.com     NaN   \n",
              "..    ...         ...         ...                            ...     ...   \n",
              "994   995         NaN         NaN             hlowethrm@army.mil  Female   \n",
              "995   996      Averil    Pickover             apickoverrn@vk.com    Male   \n",
              "996   997      Walton   Hallewell          whallewellro@nasa.gov     NaN   \n",
              "998   999    Sapphira      Terron        sterronrq@wordpress.org     NaN   \n",
              "999  1000         NaN         NaN   jandreuzzirr@paginegialle.it    Male   \n",
              "\n",
              "          ip_address  nb_visits  \n",
              "2     166.43.137.224     2710.0  \n",
              "5     90.100.118.215      451.0  \n",
              "6      88.133.77.243     1540.0  \n",
              "7    229.215.244.227      537.0  \n",
              "8      134.185.44.82      743.0  \n",
              "..               ...        ...  \n",
              "994   104.234.36.172      747.0  \n",
              "995     10.45.16.167     1305.0  \n",
              "996  231.224.238.232     2531.0  \n",
              "998    24.77.234.208      250.0  \n",
              "999   211.136.66.144     2389.0  \n",
              "\n",
              "[970 rows x 7 columns]"
            ],
            "text/html": [
              "\n",
              "  <div id=\"df-cbe60493-8651-4ae1-a900-28b3c15840d4\" class=\"colab-df-container\">\n",
              "    <div>\n",
              "<style scoped>\n",
              "    .dataframe tbody tr th:only-of-type {\n",
              "        vertical-align: middle;\n",
              "    }\n",
              "\n",
              "    .dataframe tbody tr th {\n",
              "        vertical-align: top;\n",
              "    }\n",
              "\n",
              "    .dataframe thead th {\n",
              "        text-align: right;\n",
              "    }\n",
              "</style>\n",
              "<table border=\"1\" class=\"dataframe\">\n",
              "  <thead>\n",
              "    <tr style=\"text-align: right;\">\n",
              "      <th></th>\n",
              "      <th>id</th>\n",
              "      <th>first_name</th>\n",
              "      <th>last_name</th>\n",
              "      <th>email</th>\n",
              "      <th>gender</th>\n",
              "      <th>ip_address</th>\n",
              "      <th>nb_visits</th>\n",
              "    </tr>\n",
              "  </thead>\n",
              "  <tbody>\n",
              "    <tr>\n",
              "      <th>2</th>\n",
              "      <td>3</td>\n",
              "      <td>Gar</td>\n",
              "      <td>Armal</td>\n",
              "      <td>garmal2@technorati.com</td>\n",
              "      <td>NaN</td>\n",
              "      <td>166.43.137.224</td>\n",
              "      <td>2710.0</td>\n",
              "    </tr>\n",
              "    <tr>\n",
              "      <th>5</th>\n",
              "      <td>6</td>\n",
              "      <td>Raymund</td>\n",
              "      <td>Ingerfield</td>\n",
              "      <td>ringerfield5@microsoft.com</td>\n",
              "      <td>NaN</td>\n",
              "      <td>90.100.118.215</td>\n",
              "      <td>451.0</td>\n",
              "    </tr>\n",
              "    <tr>\n",
              "      <th>6</th>\n",
              "      <td>7</td>\n",
              "      <td>Wilhelmina</td>\n",
              "      <td>Dagnan</td>\n",
              "      <td>wdagnan6@nytimes.com</td>\n",
              "      <td>Female</td>\n",
              "      <td>88.133.77.243</td>\n",
              "      <td>1540.0</td>\n",
              "    </tr>\n",
              "    <tr>\n",
              "      <th>7</th>\n",
              "      <td>8</td>\n",
              "      <td>NaN</td>\n",
              "      <td>NaN</td>\n",
              "      <td>mdewilde7@creativecommons.org</td>\n",
              "      <td>Female</td>\n",
              "      <td>229.215.244.227</td>\n",
              "      <td>537.0</td>\n",
              "    </tr>\n",
              "    <tr>\n",
              "      <th>8</th>\n",
              "      <td>9</td>\n",
              "      <td>Gunter</td>\n",
              "      <td>Lisamore</td>\n",
              "      <td>glisamore8@disqus.com</td>\n",
              "      <td>NaN</td>\n",
              "      <td>134.185.44.82</td>\n",
              "      <td>743.0</td>\n",
              "    </tr>\n",
              "    <tr>\n",
              "      <th>...</th>\n",
              "      <td>...</td>\n",
              "      <td>...</td>\n",
              "      <td>...</td>\n",
              "      <td>...</td>\n",
              "      <td>...</td>\n",
              "      <td>...</td>\n",
              "      <td>...</td>\n",
              "    </tr>\n",
              "    <tr>\n",
              "      <th>994</th>\n",
              "      <td>995</td>\n",
              "      <td>NaN</td>\n",
              "      <td>NaN</td>\n",
              "      <td>hlowethrm@army.mil</td>\n",
              "      <td>Female</td>\n",
              "      <td>104.234.36.172</td>\n",
              "      <td>747.0</td>\n",
              "    </tr>\n",
              "    <tr>\n",
              "      <th>995</th>\n",
              "      <td>996</td>\n",
              "      <td>Averil</td>\n",
              "      <td>Pickover</td>\n",
              "      <td>apickoverrn@vk.com</td>\n",
              "      <td>Male</td>\n",
              "      <td>10.45.16.167</td>\n",
              "      <td>1305.0</td>\n",
              "    </tr>\n",
              "    <tr>\n",
              "      <th>996</th>\n",
              "      <td>997</td>\n",
              "      <td>Walton</td>\n",
              "      <td>Hallewell</td>\n",
              "      <td>whallewellro@nasa.gov</td>\n",
              "      <td>NaN</td>\n",
              "      <td>231.224.238.232</td>\n",
              "      <td>2531.0</td>\n",
              "    </tr>\n",
              "    <tr>\n",
              "      <th>998</th>\n",
              "      <td>999</td>\n",
              "      <td>Sapphira</td>\n",
              "      <td>Terron</td>\n",
              "      <td>sterronrq@wordpress.org</td>\n",
              "      <td>NaN</td>\n",
              "      <td>24.77.234.208</td>\n",
              "      <td>250.0</td>\n",
              "    </tr>\n",
              "    <tr>\n",
              "      <th>999</th>\n",
              "      <td>1000</td>\n",
              "      <td>NaN</td>\n",
              "      <td>NaN</td>\n",
              "      <td>jandreuzzirr@paginegialle.it</td>\n",
              "      <td>Male</td>\n",
              "      <td>211.136.66.144</td>\n",
              "      <td>2389.0</td>\n",
              "    </tr>\n",
              "  </tbody>\n",
              "</table>\n",
              "<p>970 rows × 7 columns</p>\n",
              "</div>\n",
              "    <div class=\"colab-df-buttons\">\n",
              "\n",
              "  <div class=\"colab-df-container\">\n",
              "    <button class=\"colab-df-convert\" onclick=\"convertToInteractive('df-cbe60493-8651-4ae1-a900-28b3c15840d4')\"\n",
              "            title=\"Convert this dataframe to an interactive table.\"\n",
              "            style=\"display:none;\">\n",
              "\n",
              "  <svg xmlns=\"http://www.w3.org/2000/svg\" height=\"24px\" viewBox=\"0 -960 960 960\">\n",
              "    <path d=\"M120-120v-720h720v720H120Zm60-500h600v-160H180v160Zm220 220h160v-160H400v160Zm0 220h160v-160H400v160ZM180-400h160v-160H180v160Zm440 0h160v-160H620v160ZM180-180h160v-160H180v160Zm440 0h160v-160H620v160Z\"/>\n",
              "  </svg>\n",
              "    </button>\n",
              "\n",
              "  <style>\n",
              "    .colab-df-container {\n",
              "      display:flex;\n",
              "      gap: 12px;\n",
              "    }\n",
              "\n",
              "    .colab-df-convert {\n",
              "      background-color: #E8F0FE;\n",
              "      border: none;\n",
              "      border-radius: 50%;\n",
              "      cursor: pointer;\n",
              "      display: none;\n",
              "      fill: #1967D2;\n",
              "      height: 32px;\n",
              "      padding: 0 0 0 0;\n",
              "      width: 32px;\n",
              "    }\n",
              "\n",
              "    .colab-df-convert:hover {\n",
              "      background-color: #E2EBFA;\n",
              "      box-shadow: 0px 1px 2px rgba(60, 64, 67, 0.3), 0px 1px 3px 1px rgba(60, 64, 67, 0.15);\n",
              "      fill: #174EA6;\n",
              "    }\n",
              "\n",
              "    .colab-df-buttons div {\n",
              "      margin-bottom: 4px;\n",
              "    }\n",
              "\n",
              "    [theme=dark] .colab-df-convert {\n",
              "      background-color: #3B4455;\n",
              "      fill: #D2E3FC;\n",
              "    }\n",
              "\n",
              "    [theme=dark] .colab-df-convert:hover {\n",
              "      background-color: #434B5C;\n",
              "      box-shadow: 0px 1px 3px 1px rgba(0, 0, 0, 0.15);\n",
              "      filter: drop-shadow(0px 1px 2px rgba(0, 0, 0, 0.3));\n",
              "      fill: #FFFFFF;\n",
              "    }\n",
              "  </style>\n",
              "\n",
              "    <script>\n",
              "      const buttonEl =\n",
              "        document.querySelector('#df-cbe60493-8651-4ae1-a900-28b3c15840d4 button.colab-df-convert');\n",
              "      buttonEl.style.display =\n",
              "        google.colab.kernel.accessAllowed ? 'block' : 'none';\n",
              "\n",
              "      async function convertToInteractive(key) {\n",
              "        const element = document.querySelector('#df-cbe60493-8651-4ae1-a900-28b3c15840d4');\n",
              "        const dataTable =\n",
              "          await google.colab.kernel.invokeFunction('convertToInteractive',\n",
              "                                                    [key], {});\n",
              "        if (!dataTable) return;\n",
              "\n",
              "        const docLinkHtml = 'Like what you see? Visit the ' +\n",
              "          '<a target=\"_blank\" href=https://colab.research.google.com/notebooks/data_table.ipynb>data table notebook</a>'\n",
              "          + ' to learn more about interactive tables.';\n",
              "        element.innerHTML = '';\n",
              "        dataTable['output_type'] = 'display_data';\n",
              "        await google.colab.output.renderOutput(dataTable, element);\n",
              "        const docLink = document.createElement('div');\n",
              "        docLink.innerHTML = docLinkHtml;\n",
              "        element.appendChild(docLink);\n",
              "      }\n",
              "    </script>\n",
              "  </div>\n",
              "\n",
              "\n",
              "<div id=\"df-c70ab17a-ad46-4490-b1ba-2b0e137b157c\">\n",
              "  <button class=\"colab-df-quickchart\" onclick=\"quickchart('df-c70ab17a-ad46-4490-b1ba-2b0e137b157c')\"\n",
              "            title=\"Suggest charts\"\n",
              "            style=\"display:none;\">\n",
              "\n",
              "<svg xmlns=\"http://www.w3.org/2000/svg\" height=\"24px\"viewBox=\"0 0 24 24\"\n",
              "     width=\"24px\">\n",
              "    <g>\n",
              "        <path d=\"M19 3H5c-1.1 0-2 .9-2 2v14c0 1.1.9 2 2 2h14c1.1 0 2-.9 2-2V5c0-1.1-.9-2-2-2zM9 17H7v-7h2v7zm4 0h-2V7h2v10zm4 0h-2v-4h2v4z\"/>\n",
              "    </g>\n",
              "</svg>\n",
              "  </button>\n",
              "\n",
              "<style>\n",
              "  .colab-df-quickchart {\n",
              "      --bg-color: #E8F0FE;\n",
              "      --fill-color: #1967D2;\n",
              "      --hover-bg-color: #E2EBFA;\n",
              "      --hover-fill-color: #174EA6;\n",
              "      --disabled-fill-color: #AAA;\n",
              "      --disabled-bg-color: #DDD;\n",
              "  }\n",
              "\n",
              "  [theme=dark] .colab-df-quickchart {\n",
              "      --bg-color: #3B4455;\n",
              "      --fill-color: #D2E3FC;\n",
              "      --hover-bg-color: #434B5C;\n",
              "      --hover-fill-color: #FFFFFF;\n",
              "      --disabled-bg-color: #3B4455;\n",
              "      --disabled-fill-color: #666;\n",
              "  }\n",
              "\n",
              "  .colab-df-quickchart {\n",
              "    background-color: var(--bg-color);\n",
              "    border: none;\n",
              "    border-radius: 50%;\n",
              "    cursor: pointer;\n",
              "    display: none;\n",
              "    fill: var(--fill-color);\n",
              "    height: 32px;\n",
              "    padding: 0;\n",
              "    width: 32px;\n",
              "  }\n",
              "\n",
              "  .colab-df-quickchart:hover {\n",
              "    background-color: var(--hover-bg-color);\n",
              "    box-shadow: 0 1px 2px rgba(60, 64, 67, 0.3), 0 1px 3px 1px rgba(60, 64, 67, 0.15);\n",
              "    fill: var(--button-hover-fill-color);\n",
              "  }\n",
              "\n",
              "  .colab-df-quickchart-complete:disabled,\n",
              "  .colab-df-quickchart-complete:disabled:hover {\n",
              "    background-color: var(--disabled-bg-color);\n",
              "    fill: var(--disabled-fill-color);\n",
              "    box-shadow: none;\n",
              "  }\n",
              "\n",
              "  .colab-df-spinner {\n",
              "    border: 2px solid var(--fill-color);\n",
              "    border-color: transparent;\n",
              "    border-bottom-color: var(--fill-color);\n",
              "    animation:\n",
              "      spin 1s steps(1) infinite;\n",
              "  }\n",
              "\n",
              "  @keyframes spin {\n",
              "    0% {\n",
              "      border-color: transparent;\n",
              "      border-bottom-color: var(--fill-color);\n",
              "      border-left-color: var(--fill-color);\n",
              "    }\n",
              "    20% {\n",
              "      border-color: transparent;\n",
              "      border-left-color: var(--fill-color);\n",
              "      border-top-color: var(--fill-color);\n",
              "    }\n",
              "    30% {\n",
              "      border-color: transparent;\n",
              "      border-left-color: var(--fill-color);\n",
              "      border-top-color: var(--fill-color);\n",
              "      border-right-color: var(--fill-color);\n",
              "    }\n",
              "    40% {\n",
              "      border-color: transparent;\n",
              "      border-right-color: var(--fill-color);\n",
              "      border-top-color: var(--fill-color);\n",
              "    }\n",
              "    60% {\n",
              "      border-color: transparent;\n",
              "      border-right-color: var(--fill-color);\n",
              "    }\n",
              "    80% {\n",
              "      border-color: transparent;\n",
              "      border-right-color: var(--fill-color);\n",
              "      border-bottom-color: var(--fill-color);\n",
              "    }\n",
              "    90% {\n",
              "      border-color: transparent;\n",
              "      border-bottom-color: var(--fill-color);\n",
              "    }\n",
              "  }\n",
              "</style>\n",
              "\n",
              "  <script>\n",
              "    async function quickchart(key) {\n",
              "      const quickchartButtonEl =\n",
              "        document.querySelector('#' + key + ' button');\n",
              "      quickchartButtonEl.disabled = true;  // To prevent multiple clicks.\n",
              "      quickchartButtonEl.classList.add('colab-df-spinner');\n",
              "      try {\n",
              "        const charts = await google.colab.kernel.invokeFunction(\n",
              "            'suggestCharts', [key], {});\n",
              "      } catch (error) {\n",
              "        console.error('Error during call to suggestCharts:', error);\n",
              "      }\n",
              "      quickchartButtonEl.classList.remove('colab-df-spinner');\n",
              "      quickchartButtonEl.classList.add('colab-df-quickchart-complete');\n",
              "    }\n",
              "    (() => {\n",
              "      let quickchartButtonEl =\n",
              "        document.querySelector('#df-c70ab17a-ad46-4490-b1ba-2b0e137b157c button');\n",
              "      quickchartButtonEl.style.display =\n",
              "        google.colab.kernel.accessAllowed ? 'block' : 'none';\n",
              "    })();\n",
              "  </script>\n",
              "</div>\n",
              "    </div>\n",
              "  </div>\n"
            ]
          },
          "metadata": {},
          "execution_count": 107
        }
      ],
      "source": [
        "### Write your code below this comment.\n",
        "z_scores = zscore(df['nb_visits'])\n",
        "threshold = 2\n",
        "\n",
        "filtered_df = df[(abs(z_scores) < threshold)]\n",
        "filtered_df"
      ]
    },
    {
      "cell_type": "code",
      "source": [
        "num_outliers_removed = len(df) - len(filtered_df)\n",
        "num_outliers_removed"
      ],
      "metadata": {
        "colab": {
          "base_uri": "https://localhost:8080/"
        },
        "id": "Ldk9B8Fqkx4d",
        "outputId": "0f66c226-470c-4330-eff6-f50fce510c7b"
      },
      "execution_count": 108,
      "outputs": [
        {
          "output_type": "execute_result",
          "data": {
            "text/plain": [
              "4"
            ]
          },
          "metadata": {},
          "execution_count": 108
        }
      ]
    },
    {
      "cell_type": "markdown",
      "metadata": {
        "id": "7CzizWW_Sv6K"
      },
      "source": [
        "Were any outliers removed? If yes, how many? Did the number of outliers removed agree with the visualization in Task 7 above? Did you get the same number of outliers you were expecting? If not, why?"
      ]
    },
    {
      "cell_type": "markdown",
      "metadata": {
        "id": "PdM0pzhDSv6K"
      },
      "source": [
        "__Answer:__ ... From above num_outliers_removed value, it seems that there were 4 outliers detected as we added them and were removed using z-score. This value agrees with the visualization in task 7 without any outlier and is the same as I expected after using z-score."
      ]
    }
  ],
  "metadata": {
    "anaconda-cloud": {},
    "kernelspec": {
      "display_name": "Python 3 (ipykernel)",
      "language": "python",
      "name": "python3"
    },
    "language_info": {
      "codemirror_mode": {
        "name": "ipython",
        "version": 3
      },
      "file_extension": ".py",
      "mimetype": "text/x-python",
      "name": "python",
      "nbconvert_exporter": "python",
      "pygments_lexer": "ipython3",
      "version": "3.9.7"
    },
    "colab": {
      "provenance": []
    }
  },
  "nbformat": 4,
  "nbformat_minor": 0
}